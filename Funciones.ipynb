{
 "cells": [
  {
   "cell_type": "code",
   "execution_count": 8,
   "metadata": {},
   "outputs": [],
   "source": [
    "import pandas as pd\n",
    "import numpy as np\n",
    "from fastapi import FastAPI\n",
    "import re\n",
    "\n",
    "app = FastAPI()"
   ]
  },
  {
   "attachments": {},
   "cell_type": "markdown",
   "metadata": {},
   "source": [
    "def cantidad_filmaciones_mes( Mes ): Se ingresa un mes en idioma Español. Debe devolver la cantidad de películas que fueron estrenadas en el mes consultado en la totalidad del dataset.\n",
    "                    Ejemplo de retorno: X cantidad de películas fueron estrenadas en el mes de X"
   ]
  },
  {
   "cell_type": "code",
   "execution_count": 3,
   "metadata": {},
   "outputs": [],
   "source": [
    "pd.set_option(\"max_colwidth\", 270)\n",
    "#parquet_file = 'https://raw.githubusercontent.com/Dforko/Moviex/main/dbOK_small.snappy.parquet'\n",
    "db = pd.read_parquet('dbOK_small.snappy.parquet', engine='auto')\n"
   ]
  },
  {
   "cell_type": "code",
   "execution_count": 5,
   "metadata": {},
   "outputs": [
    {
     "name": "stdout",
     "output_type": "stream",
     "text": [
      "<class 'pandas.core.frame.DataFrame'>\n",
      "Int64Index: 44285 entries, 0 to 45458\n",
      "Data columns (total 25 columns):\n",
      " #   Column                Non-Null Count  Dtype         \n",
      "---  ------                --------------  -----         \n",
      " 0   index                 44285 non-null  int64         \n",
      " 1   id                    44285 non-null  int64         \n",
      " 2   title                 44285 non-null  string        \n",
      " 3   genres                44285 non-null  string        \n",
      " 4   overview              44285 non-null  string        \n",
      " 5   tagline               44285 non-null  string        \n",
      " 6   spoken_languages      44285 non-null  string        \n",
      " 7   original_language     44285 non-null  string        \n",
      " 8   budget                44285 non-null  int64         \n",
      " 9   revenue               44285 non-null  int64         \n",
      " 10  popularity            44285 non-null  float64       \n",
      " 11  release_date          44285 non-null  datetime64[ns]\n",
      " 12  runtime               44285 non-null  int64         \n",
      " 13  production_companies  44285 non-null  string        \n",
      " 14  production_countries  44285 non-null  string        \n",
      " 15  vote_average          44285 non-null  float64       \n",
      " 16  vote_count            44285 non-null  int64         \n",
      " 17  release_year          44285 non-null  int64         \n",
      " 18  return                44285 non-null  float64       \n",
      " 19  cast                  44285 non-null  string        \n",
      " 20  director              44285 non-null  string        \n",
      " 21  crew1                 44285 non-null  string        \n",
      " 22  crew2                 44285 non-null  string        \n",
      " 23  crew3                 44285 non-null  string        \n",
      " 24  crew4                 44285 non-null  string        \n",
      "dtypes: datetime64[ns](1), float64(3), int64(7), string(14)\n",
      "memory usage: 8.8 MB\n"
     ]
    }
   ],
   "source": [
    "db.info()\n"
   ]
  },
  {
   "cell_type": "code",
   "execution_count": 14,
   "metadata": {},
   "outputs": [],
   "source": [
    "\n",
    "db['title']=db['title'].astype('string')\n",
    "db[ 'genres']=db[ 'genres'].astype('string')\n",
    "db['overview']=db['overview'].astype('string')\n",
    "db['tagline']=db[ 'tagline'].astype('string')\n",
    "db['spoken_languages']=db[ 'spoken_languages'].astype('string')\n",
    "db['original_language']=db['original_language'].astype('string')\n",
    "db['production_companies']=db[ 'production_companies'].astype('string')\n",
    "db['production_countries']=db[ 'production_countries'].astype('string')\n",
    "db['cast']=db[ 'cast'].astype('string')\n",
    "db['director']=db['director'].astype('string')\n",
    "db['crew1']=db[ 'crew1'].astype('string')\n",
    "db['crew2']=db[ 'crew2'].astype('string')\n",
    "db['crew3']=db[ 'crew3'].astype('string')\n",
    "db['crew4']=db[ 'crew4'].astype('string')\n",
    "db['release_date']=pd.to_datetime(db['release_date'],errors='coerce')"
   ]
  },
  {
   "cell_type": "code",
   "execution_count": 15,
   "metadata": {},
   "outputs": [
    {
     "name": "stderr",
     "output_type": "stream",
     "text": [
      "C:\\Users\\dforc\\AppData\\Local\\Temp\\ipykernel_17116\\1041640844.py:13: FutureWarning: The default value of regex will change from True to False in a future version.\n",
      "  db['cast'] = db['cast'].str.replace(r'[^\\x20-\\x7E]', '')\n"
     ]
    }
   ],
   "source": [
    "db['genres']=db['genres'].fillna('*Unavailable')\n",
    "db['overview']=db['overview'].fillna('*Unavailable')\n",
    "db['tagline']=db['tagline'].fillna('*Unavailable')\n",
    "db['spoken_languages']=db['spoken_languages'].fillna('*Unavailable')\n",
    "db['production_companies']=db['production_companies'].fillna('*Unavailable')\n",
    "db['production_countries']=db['production_countries'].fillna('*Unavailable')\n",
    "\n",
    "db['cast']=db['cast'].fillna('*Unavailable')\n",
    "db['crew1']=db['crew1'].fillna('*Unavailable')\n",
    "db['crew2']=db['crew2'].fillna('*Unavailable')\n",
    "db['crew3']=db['crew3'].fillna('*Unavailable')\n",
    "db['crew4']=db['crew4'].fillna('*Unavailable')\n",
    "db['cast'] = db['cast'].str.replace(r'[^\\x20-\\x7E]', '')\n"
   ]
  },
  {
   "cell_type": "code",
   "execution_count": 16,
   "metadata": {},
   "outputs": [
    {
     "name": "stderr",
     "output_type": "stream",
     "text": [
      "C:\\Users\\dforc\\AppData\\Local\\Temp\\ipykernel_17116\\51532510.py:2: FutureWarning: The default value of regex will change from True to False in a future version.\n",
      "  db['cast'] = db['cast'].str.replace(r'[^\\x20-\\x7E]', '')\n"
     ]
    }
   ],
   "source": [
    "db['director']=db['director'].fillna('*Unavailable')\n",
    "db['cast'] = db['cast'].str.replace(r'[^\\x20-\\x7E]', '')\n",
    "db['cast'] = db['cast'].str.lstrip()"
   ]
  },
  {
   "cell_type": "code",
   "execution_count": 18,
   "metadata": {},
   "outputs": [],
   "source": [
    "def cantidad_filmaciones(Mes:str):\n",
    "    m_dic = {\n",
    "        'Enero': 1, 'Febrero': 2, 'Marzo': 3, 'Abril': 4, 'Mayo': 5, 'Junio': 6,\n",
    "        'Julio': 7, 'Agosto': 8, 'Septiembre': 9, 'Octubre': 10, 'Noviembre': 11, 'Diciembre': 12\n",
    "    }\n",
    "    nro_mes = m_dic.get(Mes)\n",
    "    if nro_mes is None:\n",
    "        return(f\"{Mes} no es un mes válido.\")\n",
    "        return\n",
    "    return {'En': Mes, 'Fueron estrenadas la cantidad de':sum(1 for date in db['release_date'] if date.month == nro_mes)}"
   ]
  },
  {
   "cell_type": "code",
   "execution_count": 20,
   "metadata": {},
   "outputs": [
    {
     "data": {
      "text/plain": [
       "'May no es un mes válido.'"
      ]
     },
     "execution_count": 20,
     "metadata": {},
     "output_type": "execute_result"
    }
   ],
   "source": [
    "cantidad_filmaciones('May')"
   ]
  },
  {
   "cell_type": "code",
   "execution_count": 8,
   "metadata": {},
   "outputs": [],
   "source": [
    "db.loc[(db['budget'] > 0) & (db['budget'] < 100), 'budget'] *= 100000"
   ]
  },
  {
   "cell_type": "code",
   "execution_count": 9,
   "metadata": {},
   "outputs": [],
   "source": [
    "db=db.rename(columns={\"Unnamed: 0\": \"index\"})\n"
   ]
  },
  {
   "cell_type": "code",
   "execution_count": null,
   "metadata": {},
   "outputs": [],
   "source": [
    "db.drop('Unnamed: 0.1', axis=1, inplace=True)"
   ]
  },
  {
   "cell_type": "code",
   "execution_count": null,
   "metadata": {},
   "outputs": [],
   "source": [
    "db.info()"
   ]
  },
  {
   "cell_type": "code",
   "execution_count": null,
   "metadata": {},
   "outputs": [],
   "source": [
    "db.to_parquet('dbOK.parquet')"
   ]
  },
  {
   "cell_type": "code",
   "execution_count": null,
   "metadata": {},
   "outputs": [],
   "source": [
    "db.head()"
   ]
  },
  {
   "cell_type": "code",
   "execution_count": null,
   "metadata": {},
   "outputs": [],
   "source": [
    "#OPTIMIZADA\n",
    "\n",
    "app = FastAPI()\n",
    "\n",
    "@app.get('/')\n",
    "def cantidad_filmaciones_mes(Mes):\n",
    "    m_dic = {'Enero': 1, 'Febrero': 2, 'Marzo': 3, 'Abril': 4, 'Mayo': 5, 'Junio': 6,'Julio': 7,\n",
    "             'Agosto': 8, 'Septiembre': 9, 'Octubre': 10, 'Noviembre': 11, 'Diciembre': 12}\n",
    "    try:\n",
    "        nro_mes = m_dic[Mes]\n",
    "    except KeyError:\n",
    "        print(f\"{Mes} no es un mes válido.\")\n",
    "        return\n",
    "    return (db['release_date'].dt.month == m_dic[Mes]).sum()"
   ]
  },
  {
   "cell_type": "code",
   "execution_count": null,
   "metadata": {},
   "outputs": [],
   "source": [
    "#OPTIMIZADA 2\n",
    "def cantidad_filmaciones(Mes):\n",
    "    m_dic = {\n",
    "        'Enero': 1, 'Febrero': 2, 'Marzo': 3, 'Abril': 4, 'Mayo': 5, 'Junio': 6,\n",
    "        'Julio': 7, 'Agosto': 8, 'Septiembre': 9, 'Octubre': 10, 'Noviembre': 11, 'Diciembre': 12\n",
    "    }\n",
    "    nro_mes = m_dic.get(Mes)\n",
    "    if nro_mes is None:\n",
    "        print(f\"{Mes} no es un mes válido.\")\n",
    "        return\n",
    "    return sum(1 for date in db['release_date'] if date.month == nro_mes)\n"
   ]
  },
  {
   "cell_type": "code",
   "execution_count": null,
   "metadata": {},
   "outputs": [
    {
     "data": {
      "text/plain": [
       "3345"
      ]
     },
     "execution_count": 129,
     "metadata": {},
     "output_type": "execute_result"
    }
   ],
   "source": [
    "cantidad_filmaciones('Mayo')"
   ]
  },
  {
   "cell_type": "code",
   "execution_count": null,
   "metadata": {},
   "outputs": [],
   "source": [
    "#OPTIMIZADA para List \n",
    "\n",
    "\n",
    "\n",
    "@app.get('/')\n",
    "def cantidad_filmaciones_mes(meses):\n",
    "    m_dic = {\n",
    "        'Enero': 1, 'Febrero': 2, 'Marzo': 3, 'Abril': 4, 'Mayo': 5, 'Junio': 6,\n",
    "        'Julio': 7, 'Agosto': 8, 'Septiembre': 9, 'Octubre': 10, 'Noviembre': 11, 'Diciembre': 12\n",
    "    }\n",
    "    counts = 0\n",
    "    for mes in meses:\n",
    "        try:\n",
    "            nro_mes = m_dic[mes]\n",
    "        except KeyError:\n",
    "            print(f\"{mes} no es un mes válido.\")\n",
    "            counts.append(None)\n",
    "            continue\n",
    "        count = (db['release_date'].dt.month == nro_mes).sum()\n",
    "        counts+=count \n",
    "    return counts\n",
    "\n"
   ]
  },
  {
   "cell_type": "code",
   "execution_count": null,
   "metadata": {},
   "outputs": [
    {
     "data": {
      "text/plain": [
       "45459"
      ]
     },
     "execution_count": 9,
     "metadata": {},
     "output_type": "execute_result"
    }
   ],
   "source": [
    "cantidad_filmaciones_mes(Mes)"
   ]
  },
  {
   "attachments": {},
   "cell_type": "markdown",
   "metadata": {},
   "source": [
    "def cantidad_filmaciones_dia( Dia ): Se ingresa un día en idioma Español. Debe devolver la cantidad de películas que fueron estrenadas en día consultado en la totalidad del dataset."
   ]
  },
  {
   "cell_type": "code",
   "execution_count": 36,
   "metadata": {},
   "outputs": [],
   "source": [
    "\n",
    "\n",
    "@app.get('/cantidad_filmaciones_dia/{Dia}')\n",
    "def cantidad_filmaciones_dia(Dia:str):\n",
    "\n",
    "    # Creamos diccionario para normalizar\n",
    "    days = {\n",
    "    'Lunes': 'Monday',\n",
    "    'Martes': 'Tuesday',\n",
    "    'Miércoles': 'Wednesday',\n",
    "    'Jueves': 'Thursday',\n",
    "    'Viernes': 'Friday',\n",
    "    'Sábado': 'Saturday',\n",
    "    'Domingo': 'Sunday'}\n",
    "    day = days[Dia]\n",
    "    lista_peliculas_day = db[db['release_date'].dt.day_name() == day]\n",
    "    respuesta = lista_peliculas_day.shape[0]\n",
    "    return {\n",
    "        'La cantidad de': respuesta,\n",
    "        'películas fueron estrenadas en los días': Dia    }"
   ]
  },
  {
   "cell_type": "code",
   "execution_count": 38,
   "metadata": {},
   "outputs": [
    {
     "ename": "KeyError",
     "evalue": "'Lues'",
     "output_type": "error",
     "traceback": [
      "\u001b[1;31m---------------------------------------------------------------------------\u001b[0m",
      "\u001b[1;31mKeyError\u001b[0m                                  Traceback (most recent call last)",
      "Cell \u001b[1;32mIn[38], line 1\u001b[0m\n\u001b[1;32m----> 1\u001b[0m cantidad_filmaciones_dia(\u001b[39m\"\u001b[39;49m\u001b[39mLues\u001b[39;49m\u001b[39m\"\u001b[39;49m)\n",
      "Cell \u001b[1;32mIn[36], line 13\u001b[0m, in \u001b[0;36mcantidad_filmaciones_dia\u001b[1;34m(Dia)\u001b[0m\n\u001b[0;32m      1\u001b[0m \u001b[39m@app\u001b[39m\u001b[39m.\u001b[39mget(\u001b[39m'\u001b[39m\u001b[39m/cantidad_filmaciones_dia/\u001b[39m\u001b[39m{Dia}\u001b[39;00m\u001b[39m'\u001b[39m)\n\u001b[0;32m      2\u001b[0m \u001b[39mdef\u001b[39;00m \u001b[39mcantidad_filmaciones_dia\u001b[39m(Dia:\u001b[39mstr\u001b[39m):\n\u001b[0;32m      3\u001b[0m \n\u001b[0;32m      4\u001b[0m     \u001b[39m# Creamos diccionario para normalizar\u001b[39;00m\n\u001b[0;32m      5\u001b[0m     days \u001b[39m=\u001b[39m {\n\u001b[0;32m      6\u001b[0m     \u001b[39m'\u001b[39m\u001b[39mLunes\u001b[39m\u001b[39m'\u001b[39m: \u001b[39m'\u001b[39m\u001b[39mMonday\u001b[39m\u001b[39m'\u001b[39m,\n\u001b[0;32m      7\u001b[0m     \u001b[39m'\u001b[39m\u001b[39mMartes\u001b[39m\u001b[39m'\u001b[39m: \u001b[39m'\u001b[39m\u001b[39mTuesday\u001b[39m\u001b[39m'\u001b[39m,\n\u001b[1;32m   (...)\u001b[0m\n\u001b[0;32m     11\u001b[0m     \u001b[39m'\u001b[39m\u001b[39mSábado\u001b[39m\u001b[39m'\u001b[39m: \u001b[39m'\u001b[39m\u001b[39mSaturday\u001b[39m\u001b[39m'\u001b[39m,\n\u001b[0;32m     12\u001b[0m     \u001b[39m'\u001b[39m\u001b[39mDomingo\u001b[39m\u001b[39m'\u001b[39m: \u001b[39m'\u001b[39m\u001b[39mSunday\u001b[39m\u001b[39m'\u001b[39m}\n\u001b[1;32m---> 13\u001b[0m     day \u001b[39m=\u001b[39m days[Dia]\n\u001b[0;32m     14\u001b[0m     lista_peliculas_day \u001b[39m=\u001b[39m db[db[\u001b[39m'\u001b[39m\u001b[39mrelease_date\u001b[39m\u001b[39m'\u001b[39m]\u001b[39m.\u001b[39mdt\u001b[39m.\u001b[39mday_name() \u001b[39m==\u001b[39m day]\n\u001b[0;32m     15\u001b[0m     respuesta \u001b[39m=\u001b[39m lista_peliculas_day\u001b[39m.\u001b[39mshape[\u001b[39m0\u001b[39m]\n",
      "\u001b[1;31mKeyError\u001b[0m: 'Lues'"
     ]
    }
   ],
   "source": [
    "cantidad_filmaciones_dia(\"Lues\")"
   ]
  },
  {
   "attachments": {},
   "cell_type": "markdown",
   "metadata": {},
   "source": [
    "def score_titulo( titulo_de_la_filmación ): Se ingresa el título de una filmación esperando como respuesta el título, el año de estreno y el score.Ejemplo de retorno: La película X fue estrenada en el año X con un score/popularidad de X"
   ]
  },
  {
   "cell_type": "code",
   "execution_count": 13,
   "metadata": {},
   "outputs": [],
   "source": [
    "\n",
    "\n",
    "@app.get('/')\n",
    "def  score_titulo(titulo_de_la_filmación):    \n",
    "    # Find the row that matches the movie title\n",
    "    movie_info = db.loc[db['title'] == titulo_de_la_filmación]\n",
    "    if  titulo_de_la_filmación not in movie_info.values:\n",
    "        print(f\"{titulo_de_la_filmación} no es un título válido. Chequea que el titulo_de_la_filmación sea el correcto, la ortografía y mayúsculas.\")\n",
    "        return  \n",
    "    return f'La película {movie_info.title.values[0]} fue estrenada en el año { movie_info.release_year.values[0]} con un score/popularidad de {movie_info.popularity.values[0]}'"
   ]
  },
  {
   "cell_type": "code",
   "execution_count": 14,
   "metadata": {},
   "outputs": [
    {
     "data": {
      "text/plain": [
       "'La película Atanarjuat: The Fast Runner fue estrenada en el año 2002 con un score/popularidad de 1.135061'"
      ]
     },
     "execution_count": 14,
     "metadata": {},
     "output_type": "execute_result"
    }
   ],
   "source": [
    "score_titulo('Atanarjuat: The Fast Runner')"
   ]
  },
  {
   "attachments": {},
   "cell_type": "markdown",
   "metadata": {},
   "source": [
    "def votos_titulo( titulo_de_la_filmación ): Se ingresa el título de una filmación esperando como respuesta el título, la cantidad de votos y el valor promedio de las votaciones. La misma variable deberá de contar con al menos 2000 valoraciones, caso contrario, debemos contar con un mensaje avisando que no cumple esta condición y que por ende, no se devuelve ningun valor.\n",
    "                    Ejemplo de retorno: La película X fue estrenada en el año X. La misma cuenta con un total de X valoraciones, con un promedio de X"
   ]
  },
  {
   "cell_type": "code",
   "execution_count": 15,
   "metadata": {},
   "outputs": [],
   "source": [
    "app = FastAPI()\n",
    "\n",
    "@app.get('/')\n",
    "\n",
    "def votos_titulo( titulo_de_la_filmación ):\n",
    "    # Find the row that matches the movie title\n",
    "    movie_info = db.loc[db['title'] == titulo_de_la_filmación]\n",
    "    if  titulo_de_la_filmación not in movie_info.values:\n",
    "        print(f\"{titulo_de_la_filmación} no es un título válido. Chequea que el título sea el correcto, la ortografía y mayúsculas.\")\n",
    "        return\n",
    "    if  movie_info.vote_count.values[0] < 2000:\n",
    "       return f\"{titulo_de_la_filmación} no posee suficientes valoraciones.\"\n",
    "    else:\n",
    "        return f'La película {movie_info.title.values[0]} fue estrenada en el año { movie_info.release_year.values[0]}. La misma cuenta con un total de { movie_info.vote_count.values[0]} valoraciones, con un promedio de { movie_info.vote_average.values[0]}'  \n",
    "    "
   ]
  },
  {
   "cell_type": "code",
   "execution_count": 16,
   "metadata": {},
   "outputs": [
    {
     "data": {
      "text/plain": [
       "'La película The Dark Knight fue estrenada en el año 2008. La misma cuenta con un total de 12269 valoraciones, con un promedio de 8.3'"
      ]
     },
     "execution_count": 16,
     "metadata": {},
     "output_type": "execute_result"
    }
   ],
   "source": [
    "votos_titulo('The Dark Knight')"
   ]
  },
  {
   "cell_type": "code",
   "execution_count": 1,
   "metadata": {},
   "outputs": [],
   "source": [
    "user_input = input(\"Digite película: \")\n",
    "def votos_titulo( user_input ):\n",
    "    teamnames= db['title'].values\n",
    "    movie_input  = filter(lambda x: x.startswith(user_input), teamnames)\n",
    "    if len(movie_input ) > 1:\n",
    "    # Deal with more that one team.\n",
    "        print('There are more than one team starting with \"{0}\"'.format(user_input))\n",
    "        print('Select the team from choices: ')\n",
    "    for index, name in enumerate(movie_input ):\n",
    "        print(\"{0}: {1}\".format(index, name))\n",
    "        index = input(\"Enter choice number: \")\n",
    "    # You might want to handle IndexError exception here.\n",
    "        print('Selected team: {0}'.format(movie_input [index]))\n",
    "    else:\n",
    "    # Only one team found, so print that team.\n",
    "        print (movie_input [0])\n",
    "\n"
   ]
  },
  {
   "cell_type": "code",
   "execution_count": null,
   "metadata": {},
   "outputs": [],
   "source": [
    "votos_titulo( user_input )"
   ]
  },
  {
   "attachments": {},
   "cell_type": "markdown",
   "metadata": {},
   "source": [
    "def get_actor( nombre_actor ): Se ingresa el nombre de un actor que se encuentre dentro de un dataset debiendo devolver el éxito del mismo medido a través del retorno. Además, la cantidad de películas que en las que ha participado y el promedio de retorno. La definición no deberá considerar directores.\n",
    "                    Ejemplo de retorno: El actor X ha participado de X cantidad de filmaciones, el mismo ha conseguido un retorno de X con un promedio de X por filmación"
   ]
  },
  {
   "cell_type": "code",
   "execution_count": 372,
   "metadata": {},
   "outputs": [],
   "source": [
    "app = FastAPI()\n",
    "\n",
    "@app.get('/')\n",
    "def get_actor( nombre_actor ):\n",
    "    actor_info = db.loc[db['cast'].str.contains(nombre_actor)]\n",
    "    actor_cant_movies=actor_info['cast'].count()\n",
    "    actor_return =round(actor_info['return'].sum(),2)\n",
    "    if  nombre_actor not in actor_info.values:\n",
    "        print(f\"{nombre_actor} no es un nombre válido. Chequea la ortografía y mayúsculas.\")\n",
    "        return\n",
    "    return f'El actor/la actriz {nombre_actor} ha participado de {actor_cant_movies} filmaciones, conseguiendo un retorno de {actor_return} con un promedio de {round(actor_return/actor_cant_movies,2)} por filmación'"
   ]
  },
  {
   "cell_type": "code",
   "execution_count": null,
   "metadata": {},
   "outputs": [],
   "source": [
    "actor_info = db.loc[db['cast'].str.contains('Steve McQueen')]\n",
    "actor_cant_movies=actor_info['cast'].count\n",
    "actor_return =actor_info['return'].sum()\n",
    "print(actor_cant_movies,actor_return)\n"
   ]
  },
  {
   "cell_type": "code",
   "execution_count": 324,
   "metadata": {},
   "outputs": [
    {
     "data": {
      "text/plain": [
       "'El actor/la actriz Robert Downey Jr. ha participado de 70 filmaciones, conseguiendo un retorno de 12396458.14 con un promedio de 177092.26 por filmación'"
      ]
     },
     "execution_count": 324,
     "metadata": {},
     "output_type": "execute_result"
    }
   ],
   "source": [
    "get_actor('Robert Downey Jr.')"
   ]
  },
  {
   "attachments": {},
   "cell_type": "markdown",
   "metadata": {},
   "source": [
    "def get_director( nombre_director ): Se ingresa el nombre de un director que se encuentre dentro de un dataset debiendo devolver el éxito del mismo medido a través del retorno. Además, deberá devolver el nombre de cada película con la fecha de lanzamiento, retorno individual, costo y ganancia de la misma."
   ]
  },
  {
   "cell_type": "code",
   "execution_count": null,
   "metadata": {},
   "outputs": [],
   "source": [
    "db.tail(12)"
   ]
  },
  {
   "cell_type": "code",
   "execution_count": 380,
   "metadata": {},
   "outputs": [],
   "source": [
    "app = FastAPI()\n",
    "\n",
    "@app.get('/')\n",
    "\n",
    "def get_director(nombre_director):\n",
    "    # Filtrar las filas que corresponden al director especificado\n",
    "    director_db = db[db['director'] == nombre_director]\n",
    "    \n",
    "    if nombre_director not in db['director'].values:\n",
    "        print(f\"{nombre_director} no es un nombre válido. Chequea la ortografía y mayúsculas.\")\n",
    "        return\n",
    "    \n",
    "    # Calcular la suma de la columna 'Retorno'\n",
    "    suma_retorno = director_db['return'].sum()\n",
    "    \n",
    "    # Crear un DataFrame con las columnas especificadas\n",
    "    resultado = director_db[['title', 'release_year', 'return', 'budget', 'revenue']]\n",
    "    \n",
    "    \n",
    "    # Renombrar las columnas del DataFrame\n",
    "    resultado = resultado.rename(columns={'title': 'Título', 'release_year': 'Año', 'return': 'Retorno', 'budget': 'Costo', 'revenue': 'Ganancia'})\n",
    "    # Ordenar el DataFrame por la columna 'Año' en orden ascendente\n",
    "    resultado = resultado.sort_values(by='Año', ascending=True)\n",
    "    # Devolver la suma de retorno y el DataFrame resultado\n",
    "    return f'El retorno total de {nombre_director} es de {round(suma_retorno, 2)}', 'Estas son sus películas, año de lanzamiento, retorno individual, costo y ganancia:', resultado\n"
   ]
  },
  {
   "cell_type": "code",
   "execution_count": null,
   "metadata": {},
   "outputs": [],
   "source": [
    "get_director('Roger Corman')"
   ]
  },
  {
   "cell_type": "code",
   "execution_count": null,
   "metadata": {},
   "outputs": [],
   "source": [
    "db = db.rename(columns={'title':'Título', 'release_year':'Año', \"return\":'Retorno' , 'budget':'Costo', 'revenue': 'Ganancia'})"
   ]
  },
  {
   "attachments": {},
   "cell_type": "markdown",
   "metadata": {},
   "source": [
    "## Content Based Recommender"
   ]
  },
  {
   "attachments": {},
   "cell_type": "markdown",
   "metadata": {},
   "source": [
    "def recomendacion( titulo ): Se ingresa el nombre de una película y te recomienda las similares en una lista de 5 valores."
   ]
  },
  {
   "attachments": {},
   "cell_type": "markdown",
   "metadata": {},
   "source": [
    "I will build two Content Based Recommenders based on:\n",
    "\n",
    "Movie Overviews and Taglines\n",
    "Movie Cast, Crew, Keywords and Genre\n",
    "Also, as mentioned in the introduction, I will be using a subset of all the movies available to us due to limiting computing power available to me."
   ]
  },
  {
   "cell_type": "code",
   "execution_count": 3,
   "metadata": {},
   "outputs": [],
   "source": [
    "import difflib\n",
    "from sklearn.feature_extraction.text import TfidfVectorizer\n",
    "from sklearn.metrics.pairwise import cosine_similarity\n"
   ]
  },
  {
   "cell_type": "code",
   "execution_count": 4,
   "metadata": {},
   "outputs": [],
   "source": [
    "\n",
    "# loading the data from the csv file to apandas dataframe\n",
    "movies_data = db\n",
    "\n",
    "# selecting the relevant features for recommendation\n",
    "\n",
    "selected_features = ['title','genres','overview','tagline','director']\n",
    "\n",
    "# combining all the 5 selected features\n",
    "\n",
    "combined_features = movies_data['title']+''+movies_data['genres']+' '+movies_data['overview']+' '+movies_data['tagline']+' '+movies_data['director']\n",
    "\n",
    "# converting the text data to feature vectors\n",
    "\n",
    "vectorizer = TfidfVectorizer(ngram_range=(1,2))\n",
    "\n",
    "feature_vectors = vectorizer.fit_transform(combined_features)\n",
    "\n"
   ]
  },
  {
   "attachments": {},
   "cell_type": "markdown",
   "metadata": {},
   "source": [
    "## Cosine Similarity"
   ]
  },
  {
   "cell_type": "code",
   "execution_count": 5,
   "metadata": {},
   "outputs": [],
   "source": [
    "# getting the similarity scores using cosine similarity\n",
    "\n",
    "similarity = cosine_similarity(feature_vectors)"
   ]
  },
  {
   "cell_type": "code",
   "execution_count": 6,
   "metadata": {},
   "outputs": [],
   "source": [
    "\n",
    "np.save('similarity.npy', similarity)"
   ]
  },
  {
   "cell_type": "code",
   "execution_count": 8,
   "metadata": {},
   "outputs": [
    {
     "name": "stdout",
     "output_type": "stream",
     "text": [
      "[[1.         0.01031757 0.01163132 ... 0.00266651 0.01175589 0.00548818]\n",
      " [0.01031757 1.         0.01555041 ... 0.01649255 0.02454345 0.00948163]\n",
      " [0.01163132 0.01555041 1.         ... 0.00244511 0.01595727 0.00576674]\n",
      " ...\n",
      " [0.00266651 0.01649255 0.00244511 ... 1.         0.00641488 0.00409453]\n",
      " [0.01175589 0.02454345 0.01595727 ... 0.00641488 1.         0.01842062]\n",
      " [0.00548818 0.00948163 0.00576674 ... 0.00409453 0.01842062 1.        ]]\n"
     ]
    }
   ],
   "source": [
    "saved_array = np.load('similarity.npy')\n",
    "print(saved_array)"
   ]
  },
  {
   "cell_type": "code",
   "execution_count": 9,
   "metadata": {},
   "outputs": [
    {
     "name": "stdout",
     "output_type": "stream",
     "text": [
      "(45456, 45456)\n"
     ]
    }
   ],
   "source": [
    "print(saved_array.shape)"
   ]
  },
  {
   "cell_type": "code",
   "execution_count": 29,
   "metadata": {},
   "outputs": [
    {
     "data": {
      "text/plain": [
       "Index(['Unnamed: 0.1', 'Unnamed: 0', 'id', 'title', 'genres', 'overview',\n",
       "       'tagline', 'spoken_languages', 'original_language', 'budget', 'revenue',\n",
       "       'popularity', 'release_date', 'runtime', 'production_companies',\n",
       "       'production_countries', 'vote_average', 'vote_count', 'release_year',\n",
       "       'return', 'cast', 'director', 'crew1', 'crew2', 'crew3', 'crew4',\n",
       "       'titulo'],\n",
       "      dtype='object')"
      ]
     },
     "execution_count": 29,
     "metadata": {},
     "output_type": "execute_result"
    }
   ],
   "source": [
    "db.columns\n"
   ]
  },
  {
   "cell_type": "code",
   "execution_count": null,
   "metadata": {},
   "outputs": [],
   "source": [
    "movie_name = input(' Enter your favourite movie name : ')\n",
    "\n",
    "list_of_all_titles = db['title'].tolist()\n",
    "\n",
    "find_close_match = difflib.get_close_matches(movie_name, list_of_all_titles)\n",
    "\n",
    "close_match = find_close_match[0]\n",
    "\n",
    "index_of_the_movie = db[db.title == close_match]['index'].values[0]\n",
    "\n",
    "similarity_score = list(enumerate(saved_array[index_of_the_movie]))\n",
    "\n",
    "sorted_similar_movies = sorted(similarity_score, key = lambda x:x[1], reverse = True)\n",
    "\n",
    "print('Movies suggested for you : \\n')\n",
    "\n",
    "i = 1\n",
    "\n",
    "for movie in sorted_similar_movies:\n",
    "  index = movie[0]\n",
    "  title_from_index = db[db.index==index]['title'].values[0]\n",
    "  if (i<11):\n",
    "    print(i, '.',title_from_index)\n",
    "    i+=1"
   ]
  },
  {
   "cell_type": "code",
   "execution_count": 12,
   "metadata": {},
   "outputs": [
    {
     "name": "stdout",
     "output_type": "stream",
     "text": [
      "Movies suggested for you : \n",
      "\n"
     ]
    },
    {
     "ename": "IndexError",
     "evalue": "index 0 is out of bounds for axis 0 with size 0",
     "output_type": "error",
     "traceback": [
      "\u001b[1;31m---------------------------------------------------------------------------\u001b[0m",
      "\u001b[1;31mIndexError\u001b[0m                                Traceback (most recent call last)",
      "Cell \u001b[1;32mIn[12], line 1\u001b[0m\n\u001b[1;32m----> 1\u001b[0m recomendacion(\u001b[39m\"\u001b[39;49m\u001b[39mbatman\u001b[39;49m\u001b[39m\"\u001b[39;49m)\n",
      "Cell \u001b[1;32mIn[11], line 18\u001b[0m, in \u001b[0;36mrecomendacion\u001b[1;34m(titulo)\u001b[0m\n\u001b[0;32m     16\u001b[0m \u001b[39mfor\u001b[39;00m movie \u001b[39min\u001b[39;00m sorted_similar_movies:\n\u001b[0;32m     17\u001b[0m   index \u001b[39m=\u001b[39m movie[\u001b[39m0\u001b[39m]\n\u001b[1;32m---> 18\u001b[0m   title_from_index \u001b[39m=\u001b[39m db[db\u001b[39m.\u001b[39;49mindex\u001b[39m==\u001b[39;49mindex][\u001b[39m'\u001b[39;49m\u001b[39mtitle\u001b[39;49m\u001b[39m'\u001b[39;49m]\u001b[39m.\u001b[39;49mvalues[\u001b[39m0\u001b[39;49m]\n\u001b[0;32m     19\u001b[0m \u001b[39mif\u001b[39;00m (i\u001b[39m<\u001b[39m\u001b[39m11\u001b[39m):\n\u001b[0;32m     20\u001b[0m   \u001b[39mprint\u001b[39m(i, \u001b[39m'\u001b[39m\u001b[39m.\u001b[39m\u001b[39m'\u001b[39m,title_from_index)\n",
      "File \u001b[1;32mc:\\Users\\dforc\\AppData\\Local\\Programs\\Python\\Python310\\lib\\site-packages\\pandas\\core\\arrays\\_mixins.py:289\u001b[0m, in \u001b[0;36mNDArrayBackedExtensionArray.__getitem__\u001b[1;34m(self, key)\u001b[0m\n\u001b[0;32m    283\u001b[0m \u001b[39mdef\u001b[39;00m \u001b[39m__getitem__\u001b[39m(\n\u001b[0;32m    284\u001b[0m     \u001b[39mself\u001b[39m: NDArrayBackedExtensionArrayT,\n\u001b[0;32m    285\u001b[0m     key: PositionalIndexer2D,\n\u001b[0;32m    286\u001b[0m ) \u001b[39m-\u001b[39m\u001b[39m>\u001b[39m NDArrayBackedExtensionArrayT \u001b[39m|\u001b[39m Any:\n\u001b[0;32m    287\u001b[0m     \u001b[39mif\u001b[39;00m lib\u001b[39m.\u001b[39mis_integer(key):\n\u001b[0;32m    288\u001b[0m         \u001b[39m# fast-path\u001b[39;00m\n\u001b[1;32m--> 289\u001b[0m         result \u001b[39m=\u001b[39m \u001b[39mself\u001b[39;49m\u001b[39m.\u001b[39;49m_ndarray[key]\n\u001b[0;32m    290\u001b[0m         \u001b[39mif\u001b[39;00m \u001b[39mself\u001b[39m\u001b[39m.\u001b[39mndim \u001b[39m==\u001b[39m \u001b[39m1\u001b[39m:\n\u001b[0;32m    291\u001b[0m             \u001b[39mreturn\u001b[39;00m \u001b[39mself\u001b[39m\u001b[39m.\u001b[39m_box_func(result)\n",
      "\u001b[1;31mIndexError\u001b[0m: index 0 is out of bounds for axis 0 with size 0"
     ]
    }
   ],
   "source": [
    "recomendacion(\"batman\")"
   ]
  },
  {
   "cell_type": "code",
   "execution_count": null,
   "metadata": {},
   "outputs": [],
   "source": [
    "@app.get('/cantidad_filmaciones_mes/{mes}')\n",
    "def cantidad_filmaciones_mes(mes:str):\n",
    "    '''Se ingresa el mes y la funcion retorna la cantidad de peliculas que se estrenaron ese mes historicamente'''\n",
    "    return {'mes':mes, 'cantidad':respuesta}\n",
    "\n",
    "@app.get('/cantidad_filmaciones_dia{dia}')\n",
    "def cantidad_filmaciones_dia(dia:str):\n",
    "    '''Se ingresa el dia y la funcion retorna la cantidad de peliculas que se estrebaron ese dia historicamente'''\n",
    "    return {'dia':dia, 'cantidad':respuesta}\n",
    "\n",
    "@app.get('/score_titulo/{titulo}')\n",
    "def score_titulo(titulo:str):\n",
    "    '''Se ingresa el título de una filmación esperando como respuesta el título, el año de estreno y el score'''\n",
    "    return {'titulo':titulo, 'anio':respuesta, 'popularidad':respuesta}\n",
    "\n",
    "\n",
    "\n",
    "@app.get('/get_director/{nombre_director}')\n",
    "def get_director(nombre_director:str):\n",
    "    ''' Se ingresa el nombre de un director que se encuentre dentro de un dataset debiendo devolver el éxito del mismo medido a través del retorno. \n",
    "    Además, deberá devolver el nombre de cada película con la fecha de lanzamiento, retorno individual, costo y ganancia de la misma.'''\n",
    "    return {'director':nombre_director, 'retorno_total_director':respuesta, \n",
    "    'peliculas':respuesta, 'anio':respuesta,, 'retorno_pelicula':respuesta, \n",
    "    'budget_pelicula':respuesta, 'revenue_pelicula':respuesta}\n",
    "\n",
    "# ML\n",
    "@app.get('/recomendacion/{titulo}')\n",
    "def recomendacion(titulo:str):\n",
    "    '''Ingresas un nombre de pelicula y te recomienda las similares en una lista'''\n",
    "    return {'lista recomendada': respuesta}\n",
    "\n",
    "@app.get('/votos_titulo/{titulo}')\n",
    "def votos_titulo(titulo:str):\n",
    "    '''Se ingresa el título de una filmación esperando como respuesta el título, la cantidad de votos y el valor promedio de las votaciones. \n",
    "    La misma variable deberá de contar con al menos 2000 valoraciones, \n",
    "    caso contrario, debemos contar con un mensaje avisando que no cumple esta condición y que por ende, no se devuelve ningun valor.'''\n",
    "    return {'titulo':titulo, 'anio':respuesta, 'voto_total':respuesta, 'voto_promedio':respuesta}\n",
    "\n",
    "@app.get('/get_actor/{nombre_actor}')\n",
    "def get_actor(nombre_actor:str):\n",
    "    '''Se ingresa el nombre de un actor que se encuentre dentro de un dataset debiendo devolver el éxito del mismo medido a través del retorno. \n",
    "    Además, la cantidad de películas que en las que ha participado y el promedio de retorno'''\n",
    "    return {'actor':nombre_actor, 'cantidad_filmaciones':respuesta, 'retorno_total':respuesta, 'retorno_promedio':respuesta}"
   ]
  },
  {
   "cell_type": "code",
   "execution_count": null,
   "metadata": {},
   "outputs": [],
   "source": [
    "# function that takes in the character name as input and returns the top 10 recommended characters\n",
    "def recommendations(name, cosine_sim = cosine_sim):\n",
    "    \n",
    "    recommended_names = []\n",
    "    \n",
    "    # getting the index of the movie that matches the title\n",
    "    idx = indices[indices == name].index[0]\n",
    "\n",
    "    # creating a Series with the similarity scores in descending order\n",
    "    score_series = pd.Series(cosine_sim[idx]).sort_values(ascending = False)\n",
    "\n",
    "    # getting the indexes of the 10 most characters\n",
    "    top_10_indexes = list(score_series.iloc[1:11].index)\n",
    "    \n",
    "    # populating the list with the names of the best 10 matching characters\n",
    "    for i in top_10_indexes:\n",
    "        recommended_names.append(list(df.index)[i])\n",
    "        \n",
    "    return recommended_names\n",
    "\n",
    "# working results which for dataset are pretty good \n",
    "\n",
    "recommendations('Blues Traveler')\n",
    "\n",
    "['G-Love & The Special Sauce',\n",
    " 'Phish',\n",
    " 'Spin Doctors',\n",
    " 'Grace Potter and the Nocturnals',\n",
    " 'Jason Mraz',\n",
    " 'Pearl Jam',\n",
    " 'Dave Matthews Band',\n",
    " 'Lukas Nelson & Promise of the Real ',\n",
    " 'Vonda Shepard',\n",
    " 'Goo Goo Dolls']"
   ]
  }
 ],
 "metadata": {
  "kernelspec": {
   "display_name": "Python 3",
   "language": "python",
   "name": "python3"
  },
  "language_info": {
   "codemirror_mode": {
    "name": "ipython",
    "version": 3
   },
   "file_extension": ".py",
   "mimetype": "text/x-python",
   "name": "python",
   "nbconvert_exporter": "python",
   "pygments_lexer": "ipython3",
   "version": "3.10.6"
  },
  "orig_nbformat": 4
 },
 "nbformat": 4,
 "nbformat_minor": 2
}
