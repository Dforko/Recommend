{
 "cells": [
  {
   "cell_type": "code",
   "execution_count": 50,
   "metadata": {},
   "outputs": [],
   "source": [
    "import pandas as pd\n",
    "import numpy as np\n",
    "import matplotlib.pyplot as plt\n",
    "import seaborn as sns\n",
    "import ast\n",
    "from pandas import json_normalize\n",
    "import re"
   ]
  },
  {
   "cell_type": "code",
   "execution_count": null,
   "metadata": {},
   "outputs": [],
   "source": [
    "\n",
    "\n",
    "pd.set_option(\"max_colwidth\", 180)\n",
    "data = pd.read_csv(\"movies_dataset.csv\")\n",
    "\n"
   ]
  },
  {
   "attachments": {},
   "cell_type": "markdown",
   "metadata": {},
   "source": [
    "# ETL"
   ]
  },
  {
   "attachments": {},
   "cell_type": "markdown",
   "metadata": {},
   "source": [
    "\n",
    "Eliminamos las columnas que no se utilizarán: video, imdb_id, adult, original_title, poster_pathy homepage."
   ]
  },
  {
   "cell_type": "code",
   "execution_count": 52,
   "metadata": {},
   "outputs": [],
   "source": [
    "data.drop(['adult','belongs_to_collection','status', 'video','imdb_id', 'original_title', 'poster_path', 'homepage'], axis=1,inplace=True)"
   ]
  },
  {
   "attachments": {},
   "cell_type": "markdown",
   "metadata": {},
   "source": [
    "Eliminamos los duplicados y algunos registros que detectamos con errores "
   ]
  },
  {
   "cell_type": "code",
   "execution_count": 53,
   "metadata": {},
   "outputs": [],
   "source": [
    "data = data.drop_duplicates()\n",
    "data = data.drop(index=35587)\n",
    "data = data.drop(index=19730)\n",
    "data = data.drop(index=29503)\n",
    "\n",
    "data = data.dropna(subset=['title'])\n"
   ]
  },
  {
   "cell_type": "code",
   "execution_count": 54,
   "metadata": {},
   "outputs": [
    {
     "name": "stdout",
     "output_type": "stream",
     "text": [
      "<class 'pandas.core.frame.DataFrame'>\n",
      "Int64Index: 45447 entries, 0 to 45465\n",
      "Data columns (total 16 columns):\n",
      " #   Column                Non-Null Count  Dtype  \n",
      "---  ------                --------------  -----  \n",
      " 0   budget                45447 non-null  object \n",
      " 1   genres                45447 non-null  object \n",
      " 2   id                    45447 non-null  object \n",
      " 3   original_language     45436 non-null  object \n",
      " 4   overview              44493 non-null  object \n",
      " 5   popularity            45447 non-null  object \n",
      " 6   production_companies  45447 non-null  object \n",
      " 7   production_countries  45447 non-null  object \n",
      " 8   release_date          45363 non-null  object \n",
      " 9   revenue               45447 non-null  float64\n",
      " 10  runtime               45190 non-null  float64\n",
      " 11  spoken_languages      45447 non-null  object \n",
      " 12  tagline               20408 non-null  object \n",
      " 13  title                 45447 non-null  object \n",
      " 14  vote_average          45447 non-null  float64\n",
      " 15  vote_count            45447 non-null  float64\n",
      "dtypes: float64(4), object(12)\n",
      "memory usage: 5.9+ MB\n"
     ]
    }
   ],
   "source": [
    "data.info()"
   ]
  },
  {
   "attachments": {},
   "cell_type": "markdown",
   "metadata": {},
   "source": [
    "Algunos campos, como belongs_to_collection, production_companies y otros (ver diccionario de datos) están anidados y tienen datos faltantes"
   ]
  },
  {
   "cell_type": "code",
   "execution_count": 55,
   "metadata": {},
   "outputs": [],
   "source": [
    "\n",
    "data['genres']=data['genres'].apply(lambda x: {} if pd.isna(x) else x)\n",
    "data['production_companies']=data['production_companies'].apply(lambda x: {} if pd.isna(x) else x)\n",
    "data['production_countries']=data['production_countries'].apply(lambda x: {} if pd.isna(x) else x)\n",
    "data['spoken_languages']=data['spoken_languages'].apply(lambda x: {} if pd.isna(x) else x)\n"
   ]
  },
  {
   "attachments": {},
   "cell_type": "markdown",
   "metadata": {},
   "source": [
    "Cambiamos comillas simples por dobles en estas columnas ya que pandas suele dar error "
   ]
  },
  {
   "cell_type": "code",
   "execution_count": 57,
   "metadata": {},
   "outputs": [],
   "source": [
    "\n",
    "data['genres']={k: v.replace(\"'\", '\"') if isinstance(v, str) else v for k, v in data['genres'].items()}\n",
    "data['production_companies']={k: v.replace(\"'\", '\"') if isinstance(v, str) else v for k, v in data['production_companies'].items()}\n",
    "data['production_countries']={k: v.replace(\"'\", '\"') if isinstance(v, str) else v for k, v in data['production_countries'].items()}\n",
    "data['spoken_languages']={k: v.replace(\"'\", '\"') if isinstance(v, str) else v for k, v in data['spoken_languages'].items()}"
   ]
  },
  {
   "attachments": {},
   "cell_type": "markdown",
   "metadata": {},
   "source": [
    "Cambiamos el tipo de datos de estas columnas "
   ]
  },
  {
   "cell_type": "code",
   "execution_count": 58,
   "metadata": {},
   "outputs": [],
   "source": [
    "\n",
    "\n",
    "data['spoken_languages'] = data['spoken_languages'].astype('string')\n",
    "data['overview'] = data['overview'].astype('string')\n",
    "data['tagline'] = data['tagline'].astype('string')\n",
    "data['original_language'] = data['original_language'].astype('string')\n",
    "data['title'] = data['title'].astype('string')\n",
    "data['genres'] = data['genres'].astype('string')\n",
    "data['popularity']=pd.to_numeric(data['popularity'])\n",
    "data['budget']=pd.to_numeric(data['budget'])\n",
    "data['id'] = data['id'].astype(int)\n",
    "data['release_date']=pd.to_datetime(data['release_date'],errors='coerce')\n",
    "\n"
   ]
  },
  {
   "cell_type": "code",
   "execution_count": 59,
   "metadata": {},
   "outputs": [],
   "source": [
    "def remove_genres(string):\n",
    "    genres = ['[{\\'', ':', 'iso_','iso__ **','_','name', 'id','\\'}]', '\\'', '1', '2','3','4','5','6','7','8','9','0','{','}','[',']',',','\"']\n",
    "    for genre in genres:\n",
    "        if not pd.isna(string):\n",
    "            string = string.replace(genre, '')\n",
    "    return string\n",
    "\n",
    "\n",
    "data['production_countries'] = data['production_countries'].apply(remove_genres)\n",
    "data['production_companies'] = data['production_companies'].apply(remove_genres)\n",
    "data['spoken_languages'] = data['spoken_languages'].apply(remove_genres)\n",
    "data['genres'] = data['genres'].apply(remove_genres)"
   ]
  },
  {
   "attachments": {},
   "cell_type": "markdown",
   "metadata": {},
   "source": [
    "Cambiamos el tipo de datos de estas columnas desanidadas"
   ]
  },
  {
   "cell_type": "code",
   "execution_count": 60,
   "metadata": {},
   "outputs": [],
   "source": [
    "data['production_companies'] = data['production_companies'].astype('string')\n",
    "data['production_countries'] = data['production_countries'].astype('string')\n",
    "data['spoken_languages'] = data['spoken_languages'].astype('string')\n",
    "data['genres'] = data['genres'].astype('string')"
   ]
  },
  {
   "attachments": {},
   "cell_type": "markdown",
   "metadata": {},
   "source": [
    "Los valores nulos de los campos revenue, budget deben ser rellenados por el número 0. Otros los rellenamos con 'Unavailable'"
   ]
  },
  {
   "cell_type": "code",
   "execution_count": 61,
   "metadata": {},
   "outputs": [],
   "source": [
    "data['revenue']=data['revenue'].fillna(0)\n",
    "data['budget']=data['budget'].fillna(0)\n",
    "data['release_date']=data['release_date'].fillna(method='ffill')\n",
    "data['tagline']=data['tagline'].fillna('*Unavailable')\n",
    "data['runtime']=data['runtime'].fillna(0)\n",
    "data['overview']=data['overview'].fillna('*Unavailable')\n",
    "data['original_language']=data['original_language'].fillna('*Unavailable')\n"
   ]
  },
  {
   "attachments": {},
   "cell_type": "markdown",
   "metadata": {},
   "source": [
    "### Con los datos ya limpios procedemos a cumplir otros requerimientos del proyecto "
   ]
  },
  {
   "cell_type": "code",
   "execution_count": 63,
   "metadata": {},
   "outputs": [],
   "source": [
    "\n",
    "dataJ=data[['id','title', 'genres','overview','tagline','spoken_languages','original_language',\n",
    " 'budget','revenue','popularity', 'release_date','runtime','production_companies','production_countries','vote_average', 'vote_count']]"
   ]
  },
  {
   "attachments": {},
   "cell_type": "markdown",
   "metadata": {},
   "source": [
    "deberá crear la columna release_year donde extraerán el año de la fecha de estreno."
   ]
  },
  {
   "cell_type": "code",
   "execution_count": 64,
   "metadata": {},
   "outputs": [
    {
     "name": "stderr",
     "output_type": "stream",
     "text": [
      "C:\\Users\\dforc\\AppData\\Local\\Temp\\ipykernel_3332\\525829048.py:1: SettingWithCopyWarning: \n",
      "A value is trying to be set on a copy of a slice from a DataFrame.\n",
      "Try using .loc[row_indexer,col_indexer] = value instead\n",
      "\n",
      "See the caveats in the documentation: https://pandas.pydata.org/pandas-docs/stable/user_guide/indexing.html#returning-a-view-versus-a-copy\n",
      "  dataJ['release_year'] = dataJ['release_date'].dt.year\n"
     ]
    }
   ],
   "source": [
    "dataJ['release_year'] = dataJ['release_date'].dt.year"
   ]
  },
  {
   "attachments": {},
   "cell_type": "markdown",
   "metadata": {},
   "source": [
    "\n",
    "\n",
    "Creamos la columna con el retorno de inversión, llame return con los campos revenuey budget, dividiendo estas dos últimas revenue / budget, cuando no haya datos disponibles para calcularlo, deberá tomar el valor 0.\n",
    "\n"
   ]
  },
  {
   "cell_type": "code",
   "execution_count": null,
   "metadata": {},
   "outputs": [],
   "source": [
    "def calculate_return(row):\n",
    "    if row['revenue'] == 0 or row['budget'] == 0:\n",
    "        return 0\n",
    "    else:\n",
    "        return row['revenue'] / row['budget']\n",
    "\n",
    "dataJ['return'] = dataJ.apply(calculate_return, axis=1)"
   ]
  },
  {
   "attachments": {},
   "cell_type": "markdown",
   "metadata": {},
   "source": [
    "### Hacemos la misma limpieza con el dataset **credits.csv**"
   ]
  },
  {
   "cell_type": "code",
   "execution_count": 67,
   "metadata": {},
   "outputs": [],
   "source": [
    "credits = pd.read_csv(\"credits.csv\")"
   ]
  },
  {
   "cell_type": "code",
   "execution_count": 68,
   "metadata": {},
   "outputs": [],
   "source": [
    "credits = credits.drop_duplicates()\n",
    "credits['cast'] = credits['cast'].astype('string')\n",
    "credits['crew'] = credits['crew'].astype('string')"
   ]
  },
  {
   "cell_type": "code",
   "execution_count": 69,
   "metadata": {},
   "outputs": [],
   "source": [
    "creditsW=credits[['id', 'cast','crew' ]]"
   ]
  },
  {
   "cell_type": "code",
   "execution_count": 70,
   "metadata": {},
   "outputs": [
    {
     "name": "stderr",
     "output_type": "stream",
     "text": [
      "C:\\Users\\dforc\\AppData\\Local\\Temp\\ipykernel_3332\\1985400701.py:7: SettingWithCopyWarning: \n",
      "A value is trying to be set on a copy of a slice from a DataFrame.\n",
      "Try using .loc[row_indexer,col_indexer] = value instead\n",
      "\n",
      "See the caveats in the documentation: https://pandas.pydata.org/pandas-docs/stable/user_guide/indexing.html#returning-a-view-versus-a-copy\n",
      "  df['c_crew'] = df[column_name].apply(extract_name_from_string)\n"
     ]
    }
   ],
   "source": [
    "\n",
    "def extract_name(df, column_name):\n",
    "    def extract_name_from_string(string):\n",
    "        data = ast.literal_eval(string)\n",
    "        result = [d['name'] for d in data]\n",
    "        return result\n",
    "\n",
    "    df['c_crew'] = df[column_name].apply(extract_name_from_string)\n",
    "    return df\n",
    "\n",
    "creditsW = extract_name(creditsW, 'crew')\n",
    "creditsW.drop(['crew'], axis=1,inplace=True)\n"
   ]
  },
  {
   "cell_type": "code",
   "execution_count": 71,
   "metadata": {},
   "outputs": [],
   "source": [
    "def extract_name(df, column_name):\n",
    "    def extract_name_from_string(string):\n",
    "        data = ast.literal_eval(string)\n",
    "        result = [d['name'] for d in data]\n",
    "        return result\n",
    "\n",
    "    df['c_cast'] = df[column_name].apply(extract_name_from_string)\n",
    "    return df\n",
    "\n",
    "creditsW = extract_name(creditsW, 'cast')\n",
    "creditsW.drop(['cast'], axis=1,inplace=True)"
   ]
  },
  {
   "cell_type": "code",
   "execution_count": 72,
   "metadata": {},
   "outputs": [],
   "source": [
    "credits_ready=creditsW[['id', 'c_cast','c_crew']]\n",
    "credits_ready=credits_ready.rename(columns={'c_cast': 'cast', 'c_crew': 'crew'})"
   ]
  },
  {
   "cell_type": "code",
   "execution_count": 73,
   "metadata": {},
   "outputs": [],
   "source": [
    "credits_ready['cast'] = credits_ready['cast'].astype('string')\n",
    "credits_ready['crew'] = credits_ready['crew'].astype('string')"
   ]
  },
  {
   "attachments": {},
   "cell_type": "markdown",
   "metadata": {},
   "source": [
    "### Finalmente unimos las columnas seleccionadas del dataset **movies_dataset.csv** con las columnas seleccionadas del dataset **credits.csv** para crear una sola base de datos"
   ]
  },
  {
   "cell_type": "code",
   "execution_count": 74,
   "metadata": {},
   "outputs": [],
   "source": [
    "db= pd.merge(dataJ, credits_ready, on='id')"
   ]
  },
  {
   "cell_type": "code",
   "execution_count": 75,
   "metadata": {},
   "outputs": [
    {
     "name": "stdout",
     "output_type": "stream",
     "text": [
      "<class 'pandas.core.frame.DataFrame'>\n",
      "Int64Index: 45459 entries, 0 to 45458\n",
      "Data columns (total 20 columns):\n",
      " #   Column                Non-Null Count  Dtype         \n",
      "---  ------                --------------  -----         \n",
      " 0   id                    45459 non-null  int32         \n",
      " 1   title                 45459 non-null  string        \n",
      " 2   genres                45459 non-null  string        \n",
      " 3   overview              45459 non-null  string        \n",
      " 4   tagline               45459 non-null  string        \n",
      " 5   spoken_languages      45459 non-null  string        \n",
      " 6   original_language     45459 non-null  string        \n",
      " 7   budget                45459 non-null  int64         \n",
      " 8   revenue               45459 non-null  float64       \n",
      " 9   popularity            45459 non-null  float64       \n",
      " 10  release_date          45459 non-null  datetime64[ns]\n",
      " 11  runtime               45459 non-null  float64       \n",
      " 12  production_companies  45459 non-null  string        \n",
      " 13  production_countries  45459 non-null  string        \n",
      " 14  vote_average          45459 non-null  float64       \n",
      " 15  vote_count            45459 non-null  float64       \n",
      " 16  release_year          45459 non-null  int64         \n",
      " 17  return                45459 non-null  float64       \n",
      " 18  cast                  45459 non-null  string        \n",
      " 19  crew                  45459 non-null  string        \n",
      "dtypes: datetime64[ns](1), float64(6), int32(1), int64(2), string(10)\n",
      "memory usage: 7.1 MB\n"
     ]
    }
   ],
   "source": [
    "db.info()"
   ]
  },
  {
   "cell_type": "code",
   "execution_count": 76,
   "metadata": {},
   "outputs": [],
   "source": [
    "\n",
    "db.to_parquet('dbLista.parquet', index=False)"
   ]
  }
 ],
 "metadata": {
  "kernelspec": {
   "display_name": "Python 3",
   "language": "python",
   "name": "python3"
  },
  "language_info": {
   "codemirror_mode": {
    "name": "ipython",
    "version": 3
   },
   "file_extension": ".py",
   "mimetype": "text/x-python",
   "name": "python",
   "nbconvert_exporter": "python",
   "pygments_lexer": "ipython3",
   "version": "3.10.6"
  },
  "orig_nbformat": 4
 },
 "nbformat": 4,
 "nbformat_minor": 2
}
